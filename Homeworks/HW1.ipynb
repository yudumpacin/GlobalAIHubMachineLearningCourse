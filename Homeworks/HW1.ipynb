{
  "nbformat": 4,
  "nbformat_minor": 0,
  "metadata": {
    "colab": {
      "name": "HW1.ipynb",
      "provenance": [],
      "collapsed_sections": []
    },
    "kernelspec": {
      "name": "python3",
      "display_name": "Python 3"
    },
    "language_info": {
      "name": "python"
    }
  },
  "cells": [
    {
      "cell_type": "markdown",
      "metadata": {
        "id": "rBsrlKNG3VXh"
      },
      "source": [
        "#Homework 1"
      ]
    },
    {
      "cell_type": "markdown",
      "metadata": {
        "id": "CpZQEzpo8Sbf"
      },
      "source": [
        "## 1) Makine Öğrenimini nasıl tanımlarsınız?"
      ]
    },
    {
      "cell_type": "markdown",
      "metadata": {
        "id": "m05djki_3YPI"
      },
      "source": [
        "Makine Öğrenimi, yapay zeka (AI) alt dallarından biridir. İstatistik, Matematik ve Bilgisayar Bilimi disiplerinden faydalanır. Bilgisayarların, açık (explicitly) programlama yolu ile değil,  veri üzerinde model oluşturarak öğrenmesini sağlar.\n",
        "\n",
        "Gözetimli (Supervised Learning), Gözetimsiz (Unsupervised Learning), Pekiştirmeli (Reinforcement Learning) Öğrenme olarak sınıflara ayırılabilir. Gözetimli Öğrenmede Eğitim (Training) verisindeki girdi ve çıktılar eğitilen veri ile modeller oluşturularak, modelin eğitim verisinde olmayan bir test verisiyle çıktı alınması sağlanır. Çıktı, sürekli bir veri ise Regression (örn. ev fiyatı tahminleme), discrete ise Classification modelleri (örn. spam maili bulma) uygulanır\n",
        "\n",
        "Pekiştirmeli Öğrenmede, gözetimli öğrenmeden farklı olarak sistem veri geldikçe deneme yanılma yoluyla öğrenir, model çıktısından alınan geri bildirimlere göre güncellenir.\n",
        "\n",
        "Gözetimsiz Öğrenmede tüm veri modele girdi olarak verilir, ve çıktı olarak girdiler kümelere ayrılır. Bu yolla veri içinde birbirine benzeyen grupları elde etmiş ve veriyi tanımış oluruz."
      ]
    },
    {
      "cell_type": "markdown",
      "metadata": {
        "id": "8hipQz8c8c6C"
      },
      "source": [
        "## 2) Denetimli ve Denetimsiz Öğrenim arasındaki farklar nelerdir? Bunların her biri için örnek 3 algoritma yazınız ve nasıl çalıştıkları hakkında kısaca bilgi veriniz."
      ]
    },
    {
      "cell_type": "markdown",
      "metadata": {
        "id": "toi8bI0M8d8c"
      },
      "source": [
        "\n",
        "1.   Denetimli öğrenmede veri bağımsız değişkenler(feautures) ve bağımsız değişken (tahmin edilen çıktı) etiketlerinden oluşur, Denetimsiz öğrenmede veride bu etiketler bulunmaz\n",
        "2.   Denetimli öğrenme, function approximation problemi sunar, yani eğitim verileri ile oluşturulabileck en yakın fonksiyonu bulma problemi denilebilir.   Denetimsiz öğrenmede ise bir hedef çıktımız yoktur, tüm verimiz girdidir, amaç veriyi gruplayarak daha iyi tanımaktır.\n",
        "\n",
        "\n"
      ]
    },
    {
      "cell_type": "markdown",
      "metadata": {
        "id": "5ise0hD2-qzL"
      },
      "source": [
        "## 3) Eğitim, test ve doğrulama seti nedir ve neden onları kullanmamız gerekir?"
      ]
    },
    {
      "cell_type": "markdown",
      "metadata": {
        "id": "dn1-Z0SC-4EU"
      },
      "source": [
        "Eğitim seti, modeli eğittiğimiz veri setidir. Modelin  gerçek ortama çıkmadan önce mutlaka test edilmesi ve doğrulanması gerekmektedir. Bu nedenle veriyi 70-30 oranında eğitim ve test seti olarak ayırıp, modelin daha önce görmediği verilerden oluşan test seti ile test edilmesi gerekmektedir. \n",
        "\n",
        "Doğrulama seti olarak ise crossvalidation tekniği kullanılarak tüm eğitim verisi kullanılabilir, eğitim verisi k alt kümeye ayrılır, sırasıyla 1 küme test, k-1 küme eğitim verisi olarak kullanılarak k ayrı başarı skoru elde edilir, bu yöntem ile modelde kullanılan hyperparameter setinden hangisinin daha başarılı bir model oluşturduğu tespit edilebilir ve model bu hyperparameter değerlerine göre oluşturulur. Ardından kurulan model, test seti ile test edilir."
      ]
    },
    {
      "cell_type": "markdown",
      "metadata": {
        "id": "lZEyGkGWBA9B"
      },
      "source": [
        "## 4) Temel ön işleme (pre-processing) adımları nelerdir? Bu adımları ayrıntılı olarak açıklayınız ve verilerimizi neden ön işleme sokmamız gerektiği hakkında bilgi veriniz."
      ]
    },
    {
      "cell_type": "markdown",
      "metadata": {
        "id": "zAk3ecNrBDia"
      },
      "source": [
        "\n",
        "\n",
        "1.   Duplike (tekrar eden) verilerin silinmesi, duplike veriler silinmezse, modelin çoklanan veriler yönünde yanlılığa neden olur.\n",
        "2.   Missing Values: Null (boş) verilerin silinmesi ya da ortalama/medyan ile doldurulması. Boş veriler modelin eğitilmesi sırasında hataya sebep olur. Bu nedenle silinmeli veya doldurulmalıdır.\n",
        "3. Outlier Detection: Diğer verilerden ayrık olan verilerin tespit edilmesi gerekir. Ayrık verilerin silinmesi gerekmez, domain knowledge-iş bilgisi ile incelenmelidir. İnsan hatasından kaynaklanıyor olabileceği gibi yeni bir iş probleminin farkedilmesine bile neden olabilir.\n",
        "4. Feature Scaling: Standartization, Normalization veya diğer teknikler ile verilerin birbirleri ile olan oranlarını bozmadan beli bir sayı aralığına alınması sağlanır. Standartization ile ortalama 0, standart sapması 1 olan, normal dağılım, -1,1 , Normalization ile ise verilerin 0 ile 1 aralığında  alınması sağlanır. Her model için gerekli değildir.\n",
        "5. Feature Encoding : Kategorik değişkenlerin, modelde input olarak kullanılabilmesi için sayısallaştırılması. Kategorik değişken nominal ise one hot, ordinal ise label encoding kullanılabilir.\n",
        "\n",
        "\n",
        "\n",
        "\n",
        "\n"
      ]
    },
    {
      "cell_type": "markdown",
      "metadata": {
        "id": "-WoyrZ5TBPG_"
      },
      "source": [
        "## 5) Sürekli (continuous) ve ayrık (discrete) değişkenleri nasıl belirleyebilir ve analiz edebilirsiniz?"
      ]
    },
    {
      "cell_type": "markdown",
      "metadata": {
        "id": "EJV2LeDzBSQb"
      },
      "source": [
        "Sürekli (continuous) değişkenler herhangi bir değeri alabilen sayısal değişkenlerdir (fiyat, boy, kilo, uzaklık vb). Ayrık (discrete) ise alabileceği değerler sonlu sayıdadır (oda sayısı, vb)\n"
      ]
    },
    {
      "cell_type": "markdown",
      "metadata": {
        "id": "PcF89yn7BSsY"
      },
      "source": [
        "## 6) Makine öğrenimi içinde kullanılan temel istatiksel kavramlar nelerdir?"
      ]
    },
    {
      "cell_type": "markdown",
      "metadata": {
        "id": "EiOsInm8BWfv"
      },
      "source": [
        "Olasılık, Rassallık, Olasılık Dağılımı,Marjinal/ Koşullu Olasılık, Beklenti, Kovaryans, Varyans, Bayes Kuralı"
      ]
    },
    {
      "cell_type": "markdown",
      "metadata": {
        "id": "9gnHonkKBW9U"
      },
      "source": [
        "## 7) Aşağıda verilen grafiği analiz ediniz. (Grafik ve değişken türü nedir, dağılımı nedir ve hangi ön işlemlerden geçmelidir?)"
      ]
    },
    {
      "cell_type": "markdown",
      "metadata": {
        "id": "adqeX9B3BZdA"
      },
      "source": [
        "![indir.png](data:image/png;base64,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)"
      ]
    },
    {
      "cell_type": "markdown",
      "metadata": {
        "id": "FRpE1hxQBs88"
      },
      "source": [
        "Grafik bir histogramdır, dolayısıyla ile frequency (sıklık) dağılımını verir. Değişken türü süreklidir (continues). Grafikte gösterilen değişkenin dağılımı sağa çarpıktır (Mean>Median) Değişkendeki verilerin çoğu -0.5 te toplanmıştır, fakat dağılımın sağa çarpık olmasına sebep olan, büyük ayrık veriler bulunduğuna işaret ediyor. Ayrık veriler z-sore,IsolationForest gibi yöntemlerle tespit edilip, elenebilir."
      ]
    }
  ]
}
